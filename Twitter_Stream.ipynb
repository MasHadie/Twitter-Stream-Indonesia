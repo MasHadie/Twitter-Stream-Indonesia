{
  "nbformat": 4,
  "nbformat_minor": 0,
  "metadata": {
    "colab": {
      "name": "Twitter Stream.ipynb",
      "provenance": []
    },
    "kernelspec": {
      "display_name": "Python 3",
      "name": "python3"
    }
  },
  "cells": [
    {
      "cell_type": "code",
      "metadata": {
        "id": "y5MI0jygn79H",
        "outputId": "5a4d4268-82a1-4e71-e161-645d5b405506",
        "colab": {
          "base_uri": "https://localhost:8080/",
          "height": 184
        }
      },
      "source": [
        "!pip install tweepy"
      ],
      "execution_count": null,
      "outputs": [
        {
          "output_type": "stream",
          "text": [
            "Requirement already satisfied: tweepy in /usr/local/lib/python3.6/dist-packages (3.6.0)\n",
            "Requirement already satisfied: requests>=2.11.1 in /usr/local/lib/python3.6/dist-packages (from tweepy) (2.23.0)\n",
            "Requirement already satisfied: requests-oauthlib>=0.7.0 in /usr/local/lib/python3.6/dist-packages (from tweepy) (1.3.0)\n",
            "Requirement already satisfied: PySocks>=1.5.7 in /usr/local/lib/python3.6/dist-packages (from tweepy) (1.7.1)\n",
            "Requirement already satisfied: six>=1.10.0 in /usr/local/lib/python3.6/dist-packages (from tweepy) (1.15.0)\n",
            "Requirement already satisfied: chardet<4,>=3.0.2 in /usr/local/lib/python3.6/dist-packages (from requests>=2.11.1->tweepy) (3.0.4)\n",
            "Requirement already satisfied: idna<3,>=2.5 in /usr/local/lib/python3.6/dist-packages (from requests>=2.11.1->tweepy) (2.10)\n",
            "Requirement already satisfied: urllib3!=1.25.0,!=1.25.1,<1.26,>=1.21.1 in /usr/local/lib/python3.6/dist-packages (from requests>=2.11.1->tweepy) (1.24.3)\n",
            "Requirement already satisfied: certifi>=2017.4.17 in /usr/local/lib/python3.6/dist-packages (from requests>=2.11.1->tweepy) (2020.6.20)\n",
            "Requirement already satisfied: oauthlib>=3.0.0 in /usr/local/lib/python3.6/dist-packages (from requests-oauthlib>=0.7.0->tweepy) (3.1.0)\n"
          ],
          "name": "stdout"
        }
      ]
    },
    {
      "cell_type": "code",
      "metadata": {
        "id": "KGZewyPDoONP",
        "colab": {
          "background_save": true
        }
      },
      "source": [
        "import sys\n",
        "import tweepy\n",
        "import csv\n",
        "\n",
        "#API Twitter Developer\n",
        "consumer_key=\"-\"\n",
        "consumer_secret=\"-\"\n",
        "access_key = \"-\"\n",
        "access_secret = \"-\"\n",
        "\n",
        "\n",
        "#Membuat Variabel untuk mengakses twitter\n",
        "auth = tweepy.OAuthHandler(consumer_key, consumer_secret)\n",
        "auth.set_access_token(access_key, access_secret)\n",
        "api = tweepy.API(auth)\n",
        "\n",
        "#membuat sebuah objek bernama 'customStreamListener'\n",
        "\n",
        "class CustomStreamListener(tweepy.StreamListener):\n",
        "    def on_status(self, status):\n",
        "\n",
        "        print (status.author.screen_name, status.created_at, status.text.encode('utf8'))\n",
        "\n",
        "        # Writing status data\n",
        "        with open('Streaming.csv', 'a') as f:\n",
        "            writer = csv.writer(f)\n",
        "            writer.writerow([status.author.screen_name, status.created_at, status.text.encode('utf8')])\n",
        "\n",
        "\n",
        "    def on_error(self, status_code):\n",
        "        print >> sys.stderr, 'Encountered error with status code:', status_code\n",
        "        return True # Don't kill the stream\n",
        "\n",
        "    def on_timeout(self):\n",
        "        print >> sys.stderr, 'Timeout...'\n",
        "        return True # Don't kill the stream\n",
        "\n",
        "# Membuat file csv\n",
        "with open('Streaming.csv', 'w',encoding='utf-8-sig',newline='') as f:\n",
        "    writer = csv.writer(f)\n",
        "    writer.writerow(['Author', 'Date', 'Text'])\n",
        "\n",
        "streamingAPI = tweepy.streaming.Stream(auth, CustomStreamListener())\n",
        "streamingAPI.filter(track=['#jokowi'])\n"
      ],
      "execution_count": null,
      "outputs": []
    }
  ]
}